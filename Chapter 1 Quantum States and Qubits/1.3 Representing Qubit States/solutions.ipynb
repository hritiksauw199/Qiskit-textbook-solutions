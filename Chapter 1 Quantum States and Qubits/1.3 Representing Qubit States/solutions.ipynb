{
 "cells": [
  {
   "cell_type": "markdown",
   "metadata": {
    "collapsed": true,
    "pycharm": {
     "name": "#%% md\n"
    }
   },
   "source": [
    "1) Create a state vector that will give a 1/3 probability of measuring a |0>\n",
    "\n",
    "Ans. $\\sqrt(1/3)$ |0> + $\\sqrt(2/3) |1>$\n",
    "\n",
    "2) Create a different state vector that will give the same measurement probabilities.\n",
    "\n",
    "Ans. $\\sqrt(2/6)$ |0> + $\\sqrt(4/6)$ |1>\n",
    "\n",
    "3) Plot vectors on Bloch Sphere **(See bloch sphere file)**\n",
    "\n",
    "   (In the last sum multiply with a global phase e^(alpha) to the euler equation and the calculate phi.)"
   ]
  }
 ],
 "metadata": {
  "kernelspec": {
   "display_name": "Python 3",
   "language": "python",
   "name": "python3"
  },
  "language_info": {
   "codemirror_mode": {
    "name": "ipython",
    "version": 2
   },
   "file_extension": ".py",
   "mimetype": "text/x-python",
   "name": "python",
   "nbconvert_exporter": "python",
   "pygments_lexer": "ipython2",
   "version": "2.7.6"
  }
 },
 "nbformat": 4,
 "nbformat_minor": 0
}