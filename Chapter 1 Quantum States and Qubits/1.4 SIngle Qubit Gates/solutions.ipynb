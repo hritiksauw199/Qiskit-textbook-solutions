{
 "cells": [
  {
   "cell_type": "markdown",
   "metadata": {},
   "source": [
    "1) Verify that |+> and |-> are eigenstates of X\n",
    "\n",
    "Ans. All Pauli matrices eigenvalues are +1 and -1. Eigenvalues are [1/$\\sqrt(2)$, 1/$\\sqrt(2)$,] and [1/$\\sqrt(2)$, -1/$\\sqrt(2)$,]\n",
    "\n",
    "2) What eigenvalues do they have?\n",
    "\n",
    "Ans. All Pauli Matrices have eigenvalues +1 and -1.\n",
    "\n",
    "3) Why would we not see these eigenvalues appear on the Bloch sphere?\n",
    "\n",
    "Ans. The eigenvalues act as a global phase, hence they are not visualized on the Bloch Sphere\n",
    "\n",
    "4) Find the eigenstates of the Y-gate, and their co-ordinates on the Bloch sphere.\n",
    "\n",
    "Ans. Eigenvector are [1/$\\sqrt(2)$, i/$\\sqrt(2)$] and [1/$\\sqrt(2)$, -i/$\\sqrt(2)$]\n",
    "\n",
    "     Coordinate on Bloch sphere = [0,1,0] and [0,-1,0]\n",
    "\n",
    "5) Write H gate as the outer products of |0>, |1>, |+>, |->\n",
    "\n",
    "Ans. H = |+><0| + |-><1|\n",
    "\n",
    "6) Write Y as a combination of H, X and Z gate(ignoring global phase)\n",
    "\n",
    "Ans. Y = HZXH\n",
    "\n",
    "7) If we initialise our qubit in the state |+>, what is the probability of measuring it in state |->?\n",
    "\n",
    "Ans. 0. Since |+> = 1/$\\sqrt(2)$ (|0> + |1>) whereas |-> = 1/$\\sqrt(2)$ (|0> - |1>), hence it results in zero.\n",
    "\n",
    "8) Use Qiskit to display the probability of measuring a |0⟩ qubit in the states |+⟩ and |−⟩  **(Refer code file attached)**\n",
    "\n",
    "9) Try to create a function that measures in the Y-basis  **(Refer code file attached)**\n",
    "\n",
    "10) What are the eigenstates of I gate?\n",
    "\n",
    "Ans. Eignevalue is 1, and since I gate leaves all states unchanged, all states are eigenstates."
   ]
  },
  {
   "cell_type": "markdown",
   "metadata": {},
   "source": []
  }
 ],
 "metadata": {
  "kernelspec": {
   "display_name": "Python 3",
   "language": "python",
   "name": "python3"
  },
  "language_info": {
   "codemirror_mode": {
    "name": "ipython",
    "version": 3
   },
   "file_extension": ".py",
   "mimetype": "text/x-python",
   "name": "python",
   "nbconvert_exporter": "python",
   "pygments_lexer": "ipython3",
   "version": "3.8.3"
  },
  "widgets": {
   "application/vnd.jupyter.widget-state+json": {
    "state": {},
    "version_major": 2,
    "version_minor": 0
   }
  }
 },
 "nbformat": 4,
 "nbformat_minor": 4
}