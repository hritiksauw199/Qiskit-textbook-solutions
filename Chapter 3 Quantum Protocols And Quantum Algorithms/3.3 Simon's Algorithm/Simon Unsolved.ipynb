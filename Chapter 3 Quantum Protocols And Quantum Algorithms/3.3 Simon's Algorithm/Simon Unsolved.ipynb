{
 "cells": [
  {
   "cell_type": "code",
   "execution_count": 1,
   "id": "717c83ed",
   "metadata": {},
   "outputs": [],
   "source": [
    "from qiskit import IBMQ, Aer\n",
    "from qiskit.providers.ibmq import least_busy\n",
    "from qiskit import QuantumCircuit, transpile, assemble\n",
    "from qiskit.visualization import plot_histogram\n",
    "from qiskit_textbook.tools import simon_oracle\n",
    "\n",
    "\n",
    "# The function simon_oracle (imported above) creates a Simon oracle for the bitstring b"
   ]
  },
  {
   "cell_type": "markdown",
   "id": "160659fc",
   "metadata": {},
   "source": [
    "# 1. Implement a general Simon oracle using Qiskit."
   ]
  },
  {
   "cell_type": "code",
   "execution_count": 2,
   "id": "f0c96517",
   "metadata": {},
   "outputs": [],
   "source": [
    "# Simon_Oracle\n",
    "\n",
    "def simon_gen_oracle(b):\n",
    "    # to create copies of first register to second register\n",
    "    for i in range(n):\n",
    "        circ.cx(i, n+i)                         #change the name of variable 'circ' depending on what you name your circuit\n",
    "    \n",
    "    # appying cx based on b\n",
    "    k=0\n",
    "    for i in range(n-1, -1, -1):                #reading the character of b in reverse order\n",
    "        if b[i] == '1':                         #if there is a '1' in b, because if there is a '0' we leave it unchanged\n",
    "            m = n                               #we assign the value of n to some variable m\n",
    "            for j in range(n-1, -1, -1):        \n",
    "                if b[j] == '1':                 #if we encounter '1' then we implement cx with respect to those b which are '1'\n",
    "                    circ.cx(k, m)               \n",
    "                m+=1\n",
    "            break\n",
    "        k+=1                                    # when the bitstring is not '1', we increment k by 1 and go to next bit\n",
    "    \n",
    "                "
   ]
  },
  {
   "cell_type": "markdown",
   "id": "4f4da57e",
   "metadata": {},
   "source": [
    "# 2. Test your general Simon oracle with the secret bitstring  b=1001, on a simulator. Are the results what you expect? Explain why."
   ]
  },
  {
   "cell_type": "code",
   "execution_count": 3,
   "id": "020a9a6d",
   "metadata": {},
   "outputs": [
    {
     "data": {
      "text/html": [
       "<pre style=\"word-wrap: normal;white-space: pre;background: #fff0;line-height: 1.1;font-family: &quot;Courier New&quot;,Courier,monospace\">     ┌───┐ ░                                ░ ┌───┐┌─┐         \n",
       "q_0: ┤ H ├─░───■───────────────────■────■───░─┤ H ├┤M├─────────\n",
       "     ├───┤ ░   │                   │    │   ░ ├───┤└╥┘┌─┐      \n",
       "q_1: ┤ H ├─░───┼────■──────────────┼────┼───░─┤ H ├─╫─┤M├──────\n",
       "     ├───┤ ░   │    │              │    │   ░ ├───┤ ║ └╥┘┌─┐   \n",
       "q_2: ┤ H ├─░───┼────┼────■─────────┼────┼───░─┤ H ├─╫──╫─┤M├───\n",
       "     ├───┤ ░   │    │    │         │    │   ░ ├───┤ ║  ║ └╥┘┌─┐\n",
       "q_3: ┤ H ├─░───┼────┼────┼────■────┼────┼───░─┤ H ├─╫──╫──╫─┤M├\n",
       "     └───┘ ░ ┌─┴─┐  │    │    │  ┌─┴─┐  │   ░ └───┘ ║  ║  ║ └╥┘\n",
       "q_4: ──────░─┤ X ├──┼────┼────┼──┤ X ├──┼───░───────╫──╫──╫──╫─\n",
       "           ░ └───┘┌─┴─┐  │    │  └───┘  │   ░       ║  ║  ║  ║ \n",
       "q_5: ──────░──────┤ X ├──┼────┼─────────┼───░───────╫──╫──╫──╫─\n",
       "           ░      └───┘┌─┴─┐  │         │   ░       ║  ║  ║  ║ \n",
       "q_6: ──────░───────────┤ X ├──┼─────────┼───░───────╫──╫──╫──╫─\n",
       "           ░           └───┘┌─┴─┐     ┌─┴─┐ ░       ║  ║  ║  ║ \n",
       "q_7: ──────░────────────────┤ X ├─────┤ X ├─░───────╫──╫──╫──╫─\n",
       "           ░                └───┘     └───┘ ░       ║  ║  ║  ║ \n",
       "c: 4/═══════════════════════════════════════════════╩══╩══╩══╩═\n",
       "                                                    0  1  2  3 </pre>"
      ],
      "text/plain": [
       "     ┌───┐ ░                                ░ ┌───┐┌─┐         \n",
       "q_0: ┤ H ├─░───■───────────────────■────■───░─┤ H ├┤M├─────────\n",
       "     ├───┤ ░   │                   │    │   ░ ├───┤└╥┘┌─┐      \n",
       "q_1: ┤ H ├─░───┼────■──────────────┼────┼───░─┤ H ├─╫─┤M├──────\n",
       "     ├───┤ ░   │    │              │    │   ░ ├───┤ ║ └╥┘┌─┐   \n",
       "q_2: ┤ H ├─░───┼────┼────■─────────┼────┼───░─┤ H ├─╫──╫─┤M├───\n",
       "     ├───┤ ░   │    │    │         │    │   ░ ├───┤ ║  ║ └╥┘┌─┐\n",
       "q_3: ┤ H ├─░───┼────┼────┼────■────┼────┼───░─┤ H ├─╫──╫──╫─┤M├\n",
       "     └───┘ ░ ┌─┴─┐  │    │    │  ┌─┴─┐  │   ░ └───┘ ║  ║  ║ └╥┘\n",
       "q_4: ──────░─┤ X ├──┼────┼────┼──┤ X ├──┼───░───────╫──╫──╫──╫─\n",
       "           ░ └───┘┌─┴─┐  │    │  └───┘  │   ░       ║  ║  ║  ║ \n",
       "q_5: ──────░──────┤ X ├──┼────┼─────────┼───░───────╫──╫──╫──╫─\n",
       "           ░      └───┘┌─┴─┐  │         │   ░       ║  ║  ║  ║ \n",
       "q_6: ──────░───────────┤ X ├──┼─────────┼───░───────╫──╫──╫──╫─\n",
       "           ░           └───┘┌─┴─┐     ┌─┴─┐ ░       ║  ║  ║  ║ \n",
       "q_7: ──────░────────────────┤ X ├─────┤ X ├─░───────╫──╫──╫──╫─\n",
       "           ░                └───┘     └───┘ ░       ║  ║  ║  ║ \n",
       "c: 4/═══════════════════════════════════════════════╩══╩══╩══╩═\n",
       "                                                    0  1  2  3 "
      ]
     },
     "execution_count": 3,
     "metadata": {},
     "output_type": "execute_result"
    }
   ],
   "source": [
    "n = 4\n",
    "b = '1001'\n",
    "circ = QuantumCircuit(n*2, n)\n",
    "\n",
    "circ.h(range(n))\n",
    "circ.barrier()\n",
    "\n",
    "simon_gen_oracle(b)\n",
    "\n",
    "circ.barrier()\n",
    "\n",
    "circ.h(range(n))\n",
    "circ.measure(range(n), range(n))\n",
    "\n",
    "circ.draw()"
   ]
  },
  {
   "cell_type": "code",
   "execution_count": 4,
   "id": "8753172c",
   "metadata": {},
   "outputs": [
    {
     "data": {
      "image/png": "[encoded data removed]",
      "text/plain": [
       "<Figure size 504x360 with 1 Axes>"
      ]
     },
     "execution_count": 4,
     "metadata": {},
     "output_type": "execute_result"
    }
   ],
   "source": [
    "# use local simulator\n",
    "aer_sim = Aer.get_backend('aer_simulator')\n",
    "shots = 1024\n",
    "qobj = assemble(circ, shots=shots)\n",
    "results = aer_sim.run(qobj).result()\n",
    "counts = results.get_counts()\n",
    "plot_histogram(counts)"
   ]
  },
  {
   "cell_type": "code",
   "execution_count": 5,
   "id": "00398ef5",
   "metadata": {},
   "outputs": [
    {
     "name": "stdout",
     "output_type": "stream",
     "text": [
      "1001.0010 = 0 (mod 2)\n",
      "1001.1011 = 0 (mod 2)\n",
      "1001.1001 = 0 (mod 2)\n",
      "1001.1111 = 0 (mod 2)\n",
      "1001.0110 = 0 (mod 2)\n",
      "1001.1101 = 0 (mod 2)\n",
      "1001.0100 = 0 (mod 2)\n",
      "1001.0000 = 0 (mod 2)\n"
     ]
    }
   ],
   "source": [
    "# Calculate the dot product of the results\n",
    "def bdotz(b, z):\n",
    "    accum = 0\n",
    "    for i in range(len(b)):\n",
    "        accum += int(b[i]) * int(z[i])\n",
    "    return (accum % 2)\n",
    "\n",
    "for z in counts:\n",
    "    print( '{}.{} = {} (mod 2)'.format(b, z, bdotz(b,z), ) )"
   ]
  },
  {
   "cell_type": "markdown",
   "id": "5434efe5",
   "metadata": {},
   "source": [
    "# Verify Result (With Qiskit Oracle)"
   ]
  },
  {
   "cell_type": "code",
   "execution_count": 7,
   "id": "0ab2b192",
   "metadata": {},
   "outputs": [
    {
     "data": {
      "text/html": [
       "<pre style=\"word-wrap: normal;white-space: pre;background: #fff0;line-height: 1.1;font-family: &quot;Courier New&quot;,Courier,monospace\">     ┌───┐ ░                                ░ ┌───┐┌─┐         \n",
       "q_0: ┤ H ├─░───■───────────────────■────■───░─┤ H ├┤M├─────────\n",
       "     ├───┤ ░   │                   │    │   ░ ├───┤└╥┘┌─┐      \n",
       "q_1: ┤ H ├─░───┼────■──────────────┼────┼───░─┤ H ├─╫─┤M├──────\n",
       "     ├───┤ ░   │    │              │    │   ░ ├───┤ ║ └╥┘┌─┐   \n",
       "q_2: ┤ H ├─░───┼────┼────■─────────┼────┼───░─┤ H ├─╫──╫─┤M├───\n",
       "     ├───┤ ░   │    │    │         │    │   ░ ├───┤ ║  ║ └╥┘┌─┐\n",
       "q_3: ┤ H ├─░───┼────┼────┼────■────┼────┼───░─┤ H ├─╫──╫──╫─┤M├\n",
       "     └───┘ ░ ┌─┴─┐  │    │    │  ┌─┴─┐  │   ░ └───┘ ║  ║  ║ └╥┘\n",
       "q_4: ──────░─┤ X ├──┼────┼────┼──┤ X ├──┼───░───────╫──╫──╫──╫─\n",
       "           ░ └───┘┌─┴─┐  │    │  └───┘  │   ░       ║  ║  ║  ║ \n",
       "q_5: ──────░──────┤ X ├──┼────┼─────────┼───░───────╫──╫──╫──╫─\n",
       "           ░      └───┘┌─┴─┐  │         │   ░       ║  ║  ║  ║ \n",
       "q_6: ──────░───────────┤ X ├──┼─────────┼───░───────╫──╫──╫──╫─\n",
       "           ░           └───┘┌─┴─┐     ┌─┴─┐ ░       ║  ║  ║  ║ \n",
       "q_7: ──────░────────────────┤ X ├─────┤ X ├─░───────╫──╫──╫──╫─\n",
       "           ░                └───┘     └───┘ ░       ║  ║  ║  ║ \n",
       "c: 4/═══════════════════════════════════════════════╩══╩══╩══╩═\n",
       "                                                    0  1  2  3 </pre>"
      ],
      "text/plain": [
       "     ┌───┐ ░                                ░ ┌───┐┌─┐         \n",
       "q_0: ┤ H ├─░───■───────────────────■────■───░─┤ H ├┤M├─────────\n",
       "     ├───┤ ░   │                   │    │   ░ ├───┤└╥┘┌─┐      \n",
       "q_1: ┤ H ├─░───┼────■──────────────┼────┼───░─┤ H ├─╫─┤M├──────\n",
       "     ├───┤ ░   │    │              │    │   ░ ├───┤ ║ └╥┘┌─┐   \n",
       "q_2: ┤ H ├─░───┼────┼────■─────────┼────┼───░─┤ H ├─╫──╫─┤M├───\n",
       "     ├───┤ ░   │    │    │         │    │   ░ ├───┤ ║  ║ └╥┘┌─┐\n",
       "q_3: ┤ H ├─░───┼────┼────┼────■────┼────┼───░─┤ H ├─╫──╫──╫─┤M├\n",
       "     └───┘ ░ ┌─┴─┐  │    │    │  ┌─┴─┐  │   ░ └───┘ ║  ║  ║ └╥┘\n",
       "q_4: ──────░─┤ X ├──┼────┼────┼──┤ X ├──┼───░───────╫──╫──╫──╫─\n",
       "           ░ └───┘┌─┴─┐  │    │  └───┘  │   ░       ║  ║  ║  ║ \n",
       "q_5: ──────░──────┤ X ├──┼────┼─────────┼───░───────╫──╫──╫──╫─\n",
       "           ░      └───┘┌─┴─┐  │         │   ░       ║  ║  ║  ║ \n",
       "q_6: ──────░───────────┤ X ├──┼─────────┼───░───────╫──╫──╫──╫─\n",
       "           ░           └───┘┌─┴─┐     ┌─┴─┐ ░       ║  ║  ║  ║ \n",
       "q_7: ──────░────────────────┤ X ├─────┤ X ├─░───────╫──╫──╫──╫─\n",
       "           ░                └───┘     └───┘ ░       ║  ║  ║  ║ \n",
       "c: 4/═══════════════════════════════════════════════╩══╩══╩══╩═\n",
       "                                                    0  1  2  3 "
      ]
     },
     "execution_count": 7,
     "metadata": {},
     "output_type": "execute_result"
    }
   ],
   "source": [
    "b_1 = '1001'\n",
    "\n",
    "n = len(b_1)\n",
    "simon_circuit = QuantumCircuit(n*2, n)\n",
    "\n",
    "# Apply Hadamard gates before querying the oracle\n",
    "simon_circuit.h(range(n))    \n",
    "\n",
    "# Apply barrier for visual separation\n",
    "simon_circuit.barrier()\n",
    "\n",
    "simon_circuit += simon_oracle(b_1)\n",
    "\n",
    "# Apply barrier for visual separation\n",
    "simon_circuit.barrier()\n",
    "\n",
    "# Apply Hadamard gates to the input register\n",
    "simon_circuit.h(range(n))\n",
    "\n",
    "# Measure qubits\n",
    "simon_circuit.measure(range(n), range(n))\n",
    "simon_circuit.draw()"
   ]
  },
  {
   "cell_type": "code",
   "execution_count": 10,
   "id": "a5b219bd",
   "metadata": {},
   "outputs": [
    {
     "data": {
      "image/png": "[encoded data removed]",
      "text/plain": [
       "<Figure size 504x360 with 1 Axes>"
      ]
     },
     "execution_count": 10,
     "metadata": {},
     "output_type": "execute_result"
    }
   ],
   "source": [
    "# use local simulator\n",
    "aer_sim = Aer.get_backend('aer_simulator')\n",
    "shots = 1024\n",
    "qobj = assemble(simon_circuit, shots=shots)\n",
    "results = aer_sim.run(qobj).result()\n",
    "counts = results.get_counts()\n",
    "plot_histogram(counts)"
   ]
  },
  {
   "cell_type": "code",
   "execution_count": 11,
   "id": "e7e56bbb",
   "metadata": {},
   "outputs": [
    {
     "name": "stdout",
     "output_type": "stream",
     "text": [
      "1001.1101 = 0 (mod 2)\n",
      "1001.0100 = 0 (mod 2)\n",
      "1001.0010 = 0 (mod 2)\n",
      "1001.1011 = 0 (mod 2)\n",
      "1001.1001 = 0 (mod 2)\n",
      "1001.0110 = 0 (mod 2)\n",
      "1001.1111 = 0 (mod 2)\n",
      "1001.0000 = 0 (mod 2)\n"
     ]
    }
   ],
   "source": [
    "# Calculate the dot product of the results\n",
    "def bdotz(b_1, z):\n",
    "    accum = 0\n",
    "    for i in range(len(b_1)):\n",
    "        accum += int(b_1[i]) * int(z[i])\n",
    "    return (accum % 2)\n",
    "\n",
    "for z in counts:\n",
    "    print( '{}.{} = {} (mod 2)'.format(b_1, z, bdotz(b_1,z), ) )"
   ]
  },
  {
   "cell_type": "markdown",
   "id": "fd088bcf",
   "metadata": {},
   "source": [
    "As we can see both the results, from our oracle and qiskit oracle are almost same.\n",
    "\n",
    "Reference: https://www.youtube.com/watch?v=7hYQzIHhDXA"
   ]
  },
  {
   "cell_type": "code",
   "execution_count": null,
   "id": "1efead35",
   "metadata": {},
   "outputs": [],
   "source": []
  }
 ],
 "metadata": {
  "kernelspec": {
   "display_name": "Python 3",
   "language": "python",
   "name": "python3"
  },
  "language_info": {
   "codemirror_mode": {
    "name": "ipython",
    "version": 3
   },
   "file_extension": ".py",
   "mimetype": "text/x-python",
   "name": "python",
   "nbconvert_exporter": "python",
   "pygments_lexer": "ipython3",
   "version": "3.8.8"
  }
 },
 "nbformat": 4,
 "nbformat_minor": 5
}
