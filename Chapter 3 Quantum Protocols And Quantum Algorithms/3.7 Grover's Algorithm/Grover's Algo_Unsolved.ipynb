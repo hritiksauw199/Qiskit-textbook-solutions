{
 "cells": [
  {
   "cell_type": "code",
   "execution_count": 1,
   "id": "d0a98ecd",
   "metadata": {},
   "outputs": [],
   "source": [
    "#initialization\n",
    "import matplotlib.pyplot as plt\n",
    "import numpy as np\n",
    "\n",
    "# importing Qiskit\n",
    "from qiskit import IBMQ, Aer, assemble, transpile\n",
    "from qiskit import QuantumCircuit, ClassicalRegister, QuantumRegister\n",
    "from qiskit.providers.ibmq import least_busy\n",
    "\n",
    "# import basic plot tools\n",
    "from qiskit.visualization import plot_histogram\n",
    "from qiskit_textbook.problems import grover_problem_oracle"
   ]
  },
  {
   "cell_type": "code",
   "execution_count": 2,
   "id": "7046d0a8",
   "metadata": {},
   "outputs": [],
   "source": [
    "def initialize_s(qc, qubits):\n",
    "    \"\"\"Apply a H-gate to 'qubits' in qc\"\"\"\n",
    "    for q in qubits:\n",
    "        qc.h(q)\n",
    "    return qc"
   ]
  },
  {
   "cell_type": "code",
   "execution_count": 3,
   "id": "4826e656",
   "metadata": {},
   "outputs": [],
   "source": [
    "def diffuser(nqubits):\n",
    "    qc = QuantumCircuit(nqubits)\n",
    "    # Apply transformation |s> -> |00..0> (H-gates)\n",
    "    for qubit in range(nqubits):\n",
    "        qc.h(qubit)\n",
    "    # Apply transformation |00..0> -> |11..1> (X-gates)\n",
    "    for qubit in range(nqubits):\n",
    "        qc.x(qubit)\n",
    "    # Do multi-controlled-Z gate\n",
    "    qc.h(nqubits-1)\n",
    "    qc.mct(list(range(nqubits-1)), nqubits-1)  # multi-controlled-toffoli\n",
    "    qc.h(nqubits-1)\n",
    "    # Apply transformation |11..1> -> |00..0>\n",
    "    for qubit in range(nqubits):\n",
    "        qc.x(qubit)\n",
    "    # Apply transformation |00..0> -> |s>\n",
    "    for qubit in range(nqubits):\n",
    "        qc.h(qubit)\n",
    "    # We will return the diffuser as a gate\n",
    "    U_s = qc.to_gate()\n",
    "    U_s.name = \"U$_s$\"\n",
    "    return U_s"
   ]
  },
  {
   "cell_type": "markdown",
   "id": "534cb3da",
   "metadata": {},
   "source": [
    "# 1. grover_problem_oracle(4, variant=2) uses 4 qubits and has 1 solution."
   ]
  },
  {
   "cell_type": "markdown",
   "id": "20715c48",
   "metadata": {},
   "source": [
    "**a) How many iterations do we need to have a > 90% chance of measuring this solution?**"
   ]
  },
  {
   "cell_type": "code",
   "execution_count": 4,
   "id": "9194936e",
   "metadata": {},
   "outputs": [
    {
     "name": "stdout",
     "output_type": "stream",
     "text": [
      "Solutions:\n",
      "|0011>\n"
     ]
    },
    {
     "data": {
      "text/html": [
       "<pre style=\"word-wrap: normal;white-space: pre;background: #fff0;line-height: 1.1;font-family: &quot;Courier New&quot;,Courier,monospace\">        ┌───┐┌────────────────────┐┌────────┐┌────────────────────┐┌────────┐»\n",
       "   q_0: ┤ H ├┤0                   ├┤0       ├┤0                   ├┤0       ├»\n",
       "        ├───┤│                    ││        ││                    ││        │»\n",
       "   q_1: ┤ H ├┤1                   ├┤1       ├┤1                   ├┤1       ├»\n",
       "        ├───┤│  Oracle\n",
       "n=4, var=2 ││  U$_s$ ││  Oracle\n",
       "n=4, var=2 ││  U$_s$ │»\n",
       "   q_2: ┤ H ├┤2                   ├┤2       ├┤2                   ├┤2       ├»\n",
       "        ├───┤│                    ││        ││                    ││        │»\n",
       "   q_3: ┤ H ├┤3                   ├┤3       ├┤3                   ├┤3       ├»\n",
       "        └───┘└────────────────────┘└────────┘└────────────────────┘└────────┘»\n",
       "meas: 4/═════════════════════════════════════════════════════════════════════»\n",
       "                                                                             »\n",
       "«         ░ ┌─┐         \n",
       "«   q_0: ─░─┤M├─────────\n",
       "«         ░ └╥┘┌─┐      \n",
       "«   q_1: ─░──╫─┤M├──────\n",
       "«         ░  ║ └╥┘┌─┐   \n",
       "«   q_2: ─░──╫──╫─┤M├───\n",
       "«         ░  ║  ║ └╥┘┌─┐\n",
       "«   q_3: ─░──╫──╫──╫─┤M├\n",
       "«         ░  ║  ║  ║ └╥┘\n",
       "«meas: 4/════╩══╩══╩══╩═\n",
       "«            0  1  2  3 </pre>"
      ],
      "text/plain": [
       "        ┌───┐┌────────────────────┐┌────────┐┌────────────────────┐┌────────┐»\n",
       "   q_0: ┤ H ├┤0                   ├┤0       ├┤0                   ├┤0       ├»\n",
       "        ├───┤│                    ││        ││                    ││        │»\n",
       "   q_1: ┤ H ├┤1                   ├┤1       ├┤1                   ├┤1       ├»\n",
       "        ├───┤│  Oracle\n",
       "n=4, var=2 ││  U$_s$ ││  Oracle\n",
       "n=4, var=2 ││  U$_s$ │»\n",
       "   q_2: ┤ H ├┤2                   ├┤2       ├┤2                   ├┤2       ├»\n",
       "        ├───┤│                    ││        ││                    ││        │»\n",
       "   q_3: ┤ H ├┤3                   ├┤3       ├┤3                   ├┤3       ├»\n",
       "        └───┘└────────────────────┘└────────┘└────────────────────┘└────────┘»\n",
       "meas: 4/═════════════════════════════════════════════════════════════════════»\n",
       "                                                                             »\n",
       "«         ░ ┌─┐         \n",
       "«   q_0: ─░─┤M├─────────\n",
       "«         ░ └╥┘┌─┐      \n",
       "«   q_1: ─░──╫─┤M├──────\n",
       "«         ░  ║ └╥┘┌─┐   \n",
       "«   q_2: ─░──╫──╫─┤M├───\n",
       "«         ░  ║  ║ └╥┘┌─┐\n",
       "«   q_3: ─░──╫──╫──╫─┤M├\n",
       "«         ░  ║  ║  ║ └╥┘\n",
       "«meas: 4/════╩══╩══╩══╩═\n",
       "«            0  1  2  3 "
      ]
     },
     "execution_count": 4,
     "metadata": {},
     "output_type": "execute_result"
    }
   ],
   "source": [
    "n = 4\n",
    "qc = QuantumCircuit(n)\n",
    "oracle1 = grover_problem_oracle(4, variant=2, print_solutions=True)\n",
    "qc = initialize_s(qc, [0,1,2,3])\n",
    "# we run two iterations here\n",
    "qc.append(oracle1, [0,1,2,3])\n",
    "qc.append(diffuser(n), [0,1,2,3])\n",
    "qc.append(oracle1, [0,1,2,3])\n",
    "qc.append(diffuser(n), [0,1,2,3])\n",
    "qc.measure_all()\n",
    "qc.draw()"
   ]
  },
  {
   "cell_type": "code",
   "execution_count": 5,
   "id": "95a0955e",
   "metadata": {},
   "outputs": [
    {
     "data": {
      "image/png": "[encoded data removed]",
      "text/plain": [
       "<Figure size 504x360 with 1 Axes>"
      ]
     },
     "execution_count": 5,
     "metadata": {},
     "output_type": "execute_result"
    }
   ],
   "source": [
    "aer_sim = Aer.get_backend('aer_simulator')\n",
    "transpiled_qc = transpile(qc, aer_sim)\n",
    "qobj = assemble(transpiled_qc)\n",
    "results = aer_sim.run(qobj).result()\n",
    "counts = results.get_counts()\n",
    "plot_histogram(counts)"
   ]
  },
  {
   "cell_type": "markdown",
   "id": "0fde1c62",
   "metadata": {},
   "source": [
    "Here we can observe, after 2 iterations we have a 90% chance of measuring the solution state |0011>."
   ]
  },
  {
   "cell_type": "markdown",
   "id": "49092080",
   "metadata": {},
   "source": [
    "**b) Use Grover's algorithm to find this solution state. c. What happens if we apply more iterations the number we calculated in problem 1a above?Why?**"
   ]
  },
  {
   "cell_type": "markdown",
   "id": "76fe7a18",
   "metadata": {},
   "source": [
    "The solution state we can see is |0011> which is also verified below by the oracle. If we apply more iterations we get a higher chance of calculating the correct solution as the amplitude of non-marked states decerase after each iteration and the amplitude of correct solution increases."
   ]
  },
  {
   "cell_type": "code",
   "execution_count": 6,
   "id": "4bfe8102",
   "metadata": {},
   "outputs": [
    {
     "name": "stdout",
     "output_type": "stream",
     "text": [
      "Solutions:\n",
      "|0011>\n"
     ]
    },
    {
     "data": {
      "text/plain": [
       "<qiskit.circuit.instructionset.InstructionSet at 0x1bc8f3ac4f0>"
      ]
     },
     "execution_count": 6,
     "metadata": {},
     "output_type": "execute_result"
    }
   ],
   "source": [
    "# Verification of Solution\n",
    "n = 4\n",
    "oracle = grover_problem_oracle(n, variant=2, print_solutions = True)  # 0th variant of oracle, with n qubits\n",
    "qc = QuantumCircuit(n)\n",
    "qc.append(oracle, [0,1,2,3])\n"
   ]
  },
  {
   "cell_type": "markdown",
   "id": "039584a4",
   "metadata": {},
   "source": [
    "# 2. With 2 solutions and 4 qubits, how many iterations do we need for a >90% chance of measuring a solution? Test your answer using the oracle grover_problem_oracle(4, variant=1) (which has two solutions)"
   ]
  },
  {
   "cell_type": "code",
   "execution_count": 23,
   "id": "84dcb3df",
   "metadata": {},
   "outputs": [
    {
     "name": "stdout",
     "output_type": "stream",
     "text": [
      "Solutions:\n",
      "|0111>\n",
      "|1001>\n"
     ]
    },
    {
     "data": {
      "text/html": [
       "<pre style=\"word-wrap: normal;white-space: pre;background: #fff0;line-height: 1.1;font-family: &quot;Courier New&quot;,Courier,monospace\">        ┌───┐┌────────────────────┐┌────────┐ ░ ┌─┐         \n",
       "   q_0: ┤ H ├┤0                   ├┤0       ├─░─┤M├─────────\n",
       "        ├───┤│                    ││        │ ░ └╥┘┌─┐      \n",
       "   q_1: ┤ H ├┤1                   ├┤1       ├─░──╫─┤M├──────\n",
       "        ├───┤│  Oracle\n",
       "n=4, var=1 ││  U$_s$ │ ░  ║ └╥┘┌─┐   \n",
       "   q_2: ┤ H ├┤2                   ├┤2       ├─░──╫──╫─┤M├───\n",
       "        ├───┤│                    ││        │ ░  ║  ║ └╥┘┌─┐\n",
       "   q_3: ┤ H ├┤3                   ├┤3       ├─░──╫──╫──╫─┤M├\n",
       "        └───┘└────────────────────┘└────────┘ ░  ║  ║  ║ └╥┘\n",
       "meas: 4/═════════════════════════════════════════╩══╩══╩══╩═\n",
       "                                                 0  1  2  3 </pre>"
      ],
      "text/plain": [
       "        ┌───┐┌────────────────────┐┌────────┐ ░ ┌─┐         \n",
       "   q_0: ┤ H ├┤0                   ├┤0       ├─░─┤M├─────────\n",
       "        ├───┤│                    ││        │ ░ └╥┘┌─┐      \n",
       "   q_1: ┤ H ├┤1                   ├┤1       ├─░──╫─┤M├──────\n",
       "        ├───┤│  Oracle\n",
       "n=4, var=1 ││  U$_s$ │ ░  ║ └╥┘┌─┐   \n",
       "   q_2: ┤ H ├┤2                   ├┤2       ├─░──╫──╫─┤M├───\n",
       "        ├───┤│                    ││        │ ░  ║  ║ └╥┘┌─┐\n",
       "   q_3: ┤ H ├┤3                   ├┤3       ├─░──╫──╫──╫─┤M├\n",
       "        └───┘└────────────────────┘└────────┘ ░  ║  ║  ║ └╥┘\n",
       "meas: 4/═════════════════════════════════════════╩══╩══╩══╩═\n",
       "                                                 0  1  2  3 "
      ]
     },
     "execution_count": 23,
     "metadata": {},
     "output_type": "execute_result"
    }
   ],
   "source": [
    "n = 4\n",
    "qc = QuantumCircuit(n)\n",
    "oracle = grover_problem_oracle(4, variant=1, print_solutions=True)\n",
    "qc = initialize_s(qc, [0,1,2,3])\n",
    "# we run two iterations here\n",
    "qc.append(oracle, [0,1,2,3])\n",
    "qc.append(diffuser(n), [0,1,2,3])\n",
    "qc.measure_all()\n",
    "qc.draw()"
   ]
  },
  {
   "cell_type": "code",
   "execution_count": 24,
   "id": "fe55fcd8",
   "metadata": {},
   "outputs": [
    {
     "data": {
      "image/png": "[encoded data removed]",
      "text/plain": [
       "<Figure size 504x360 with 1 Axes>"
      ]
     },
     "execution_count": 24,
     "metadata": {},
     "output_type": "execute_result"
    }
   ],
   "source": [
    "aer_sim = Aer.get_backend('aer_simulator')\n",
    "transpiled_qc = transpile(qc, aer_sim)\n",
    "qobj = assemble(transpiled_qc)\n",
    "results = aer_sim.run(qobj).result()\n",
    "counts = results.get_counts()\n",
    "plot_histogram(counts)"
   ]
  },
  {
   "cell_type": "markdown",
   "id": "da7e55fd",
   "metadata": {},
   "source": [
    "**If we take one iteration then we have a 0.371+0.402 = 0.773 that is around 77% of getting the solutions**"
   ]
  },
  {
   "cell_type": "code",
   "execution_count": 25,
   "id": "9ea15060",
   "metadata": {},
   "outputs": [
    {
     "name": "stdout",
     "output_type": "stream",
     "text": [
      "Solutions:\n",
      "|0111>\n",
      "|1001>\n"
     ]
    },
    {
     "data": {
      "text/html": [
       "<pre style=\"word-wrap: normal;white-space: pre;background: #fff0;line-height: 1.1;font-family: &quot;Courier New&quot;,Courier,monospace\">        ┌───┐┌────────────────────┐┌────────┐┌────────────────────┐┌────────┐»\n",
       "   q_0: ┤ H ├┤0                   ├┤0       ├┤0                   ├┤0       ├»\n",
       "        ├───┤│                    ││        ││                    ││        │»\n",
       "   q_1: ┤ H ├┤1                   ├┤1       ├┤1                   ├┤1       ├»\n",
       "        ├───┤│  Oracle\n",
       "n=4, var=1 ││  U$_s$ ││  Oracle\n",
       "n=4, var=1 ││  U$_s$ │»\n",
       "   q_2: ┤ H ├┤2                   ├┤2       ├┤2                   ├┤2       ├»\n",
       "        ├───┤│                    ││        ││                    ││        │»\n",
       "   q_3: ┤ H ├┤3                   ├┤3       ├┤3                   ├┤3       ├»\n",
       "        └───┘└────────────────────┘└────────┘└────────────────────┘└────────┘»\n",
       "meas: 4/═════════════════════════════════════════════════════════════════════»\n",
       "                                                                             »\n",
       "«         ░ ┌─┐         \n",
       "«   q_0: ─░─┤M├─────────\n",
       "«         ░ └╥┘┌─┐      \n",
       "«   q_1: ─░──╫─┤M├──────\n",
       "«         ░  ║ └╥┘┌─┐   \n",
       "«   q_2: ─░──╫──╫─┤M├───\n",
       "«         ░  ║  ║ └╥┘┌─┐\n",
       "«   q_3: ─░──╫──╫──╫─┤M├\n",
       "«         ░  ║  ║  ║ └╥┘\n",
       "«meas: 4/════╩══╩══╩══╩═\n",
       "«            0  1  2  3 </pre>"
      ],
      "text/plain": [
       "        ┌───┐┌────────────────────┐┌────────┐┌────────────────────┐┌────────┐»\n",
       "   q_0: ┤ H ├┤0                   ├┤0       ├┤0                   ├┤0       ├»\n",
       "        ├───┤│                    ││        ││                    ││        │»\n",
       "   q_1: ┤ H ├┤1                   ├┤1       ├┤1                   ├┤1       ├»\n",
       "        ├───┤│  Oracle\n",
       "n=4, var=1 ││  U$_s$ ││  Oracle\n",
       "n=4, var=1 ││  U$_s$ │»\n",
       "   q_2: ┤ H ├┤2                   ├┤2       ├┤2                   ├┤2       ├»\n",
       "        ├───┤│                    ││        ││                    ││        │»\n",
       "   q_3: ┤ H ├┤3                   ├┤3       ├┤3                   ├┤3       ├»\n",
       "        └───┘└────────────────────┘└────────┘└────────────────────┘└────────┘»\n",
       "meas: 4/═════════════════════════════════════════════════════════════════════»\n",
       "                                                                             »\n",
       "«         ░ ┌─┐         \n",
       "«   q_0: ─░─┤M├─────────\n",
       "«         ░ └╥┘┌─┐      \n",
       "«   q_1: ─░──╫─┤M├──────\n",
       "«         ░  ║ └╥┘┌─┐   \n",
       "«   q_2: ─░──╫──╫─┤M├───\n",
       "«         ░  ║  ║ └╥┘┌─┐\n",
       "«   q_3: ─░──╫──╫──╫─┤M├\n",
       "«         ░  ║  ║  ║ └╥┘\n",
       "«meas: 4/════╩══╩══╩══╩═\n",
       "«            0  1  2  3 "
      ]
     },
     "execution_count": 25,
     "metadata": {},
     "output_type": "execute_result"
    }
   ],
   "source": [
    "n = 4\n",
    "qc = QuantumCircuit(n)\n",
    "oracle = grover_problem_oracle(4, variant=1, print_solutions=True)\n",
    "qc = initialize_s(qc, [0,1,2,3])\n",
    "# we run two iterations here\n",
    "qc.append(oracle, [0,1,2,3])\n",
    "qc.append(diffuser(n), [0,1,2,3])\n",
    "qc.append(oracle, [0,1,2,3])\n",
    "qc.append(diffuser(n), [0,1,2,3])\n",
    "qc.measure_all()\n",
    "qc.draw()"
   ]
  },
  {
   "cell_type": "code",
   "execution_count": 26,
   "id": "35057d3f",
   "metadata": {
    "scrolled": true
   },
   "outputs": [
    {
     "data": {
      "image/png": "[encoded data removed]",
      "text/plain": [
       "<Figure size 504x360 with 1 Axes>"
      ]
     },
     "execution_count": 26,
     "metadata": {},
     "output_type": "execute_result"
    }
   ],
   "source": [
    "aer_sim = Aer.get_backend('aer_simulator')\n",
    "transpiled_qc = transpile(qc, aer_sim)\n",
    "qobj = assemble(transpiled_qc)\n",
    "results = aer_sim.run(qobj).result()\n",
    "counts = results.get_counts()\n",
    "plot_histogram(counts)"
   ]
  },
  {
   "cell_type": "markdown",
   "id": "a038e936",
   "metadata": {},
   "source": [
    "**If we take two iteration then we have a 0.504+0.433 = 0.937 that is >90% chance of getting the solutions**"
   ]
  },
  {
   "cell_type": "markdown",
   "id": "d335c9ef",
   "metadata": {},
   "source": [
    "# 3"
   ]
  },
  {
   "attachments": {
    "4.png": {
     "image/png": "[encoded data removed]"
    }
   },
   "cell_type": "markdown",
   "id": "9bad6765",
   "metadata": {},
   "source": [
    "![4.png](attachment:4.png)"
   ]
  },
  {
   "cell_type": "code",
   "execution_count": 74,
   "id": "c97bd6b7",
   "metadata": {},
   "outputs": [],
   "source": [
    "# define the number of qubits needed n\n",
    "# define your own oracle and the nummber of iterations you need\n",
    "# this code makes use of just the diffuser function\n",
    "\n",
    "def grover_oracle(oracle, iterations):\n",
    "    # applying h gates \n",
    "    for i in range(n):\n",
    "        qc.h(i)\n",
    "    #applying the oracle specified\n",
    "    a = []\n",
    "    for i in range(n):\n",
    "        a.append(i)\n",
    "    \n",
    "    for i in range(iterations):\n",
    "        qc.append(oracle, a)\n",
    "        qc.append(diffuser(n), a)\n",
    "    \n",
    "    qc.measure_all()\n",
    "    return qc"
   ]
  },
  {
   "cell_type": "markdown",
   "id": "b6f72d69",
   "metadata": {},
   "source": [
    "**Testing**"
   ]
  },
  {
   "cell_type": "code",
   "execution_count": 75,
   "id": "e010d4b8",
   "metadata": {},
   "outputs": [
    {
     "name": "stdout",
     "output_type": "stream",
     "text": [
      "Solutions:\n",
      "|0111>\n",
      "|1001>\n"
     ]
    },
    {
     "data": {
      "text/html": [
       "<pre style=\"word-wrap: normal;white-space: pre;background: #fff0;line-height: 1.1;font-family: &quot;Courier New&quot;,Courier,monospace\">        ┌───┐┌────────────────────┐┌────────┐┌────────────────────┐┌────────┐»\n",
       "   q_0: ┤ H ├┤0                   ├┤0       ├┤0                   ├┤0       ├»\n",
       "        ├───┤│                    ││        ││                    ││        │»\n",
       "   q_1: ┤ H ├┤1                   ├┤1       ├┤1                   ├┤1       ├»\n",
       "        ├───┤│  Oracle\n",
       "n=4, var=1 ││  U$_s$ ││  Oracle\n",
       "n=4, var=1 ││  U$_s$ │»\n",
       "   q_2: ┤ H ├┤2                   ├┤2       ├┤2                   ├┤2       ├»\n",
       "        ├───┤│                    ││        ││                    ││        │»\n",
       "   q_3: ┤ H ├┤3                   ├┤3       ├┤3                   ├┤3       ├»\n",
       "        └───┘└────────────────────┘└────────┘└────────────────────┘└────────┘»\n",
       "   c: 4/═════════════════════════════════════════════════════════════════════»\n",
       "                                                                             »\n",
       "meas: 4/═════════════════════════════════════════════════════════════════════»\n",
       "                                                                             »\n",
       "«         ░ ┌─┐         \n",
       "«   q_0: ─░─┤M├─────────\n",
       "«         ░ └╥┘┌─┐      \n",
       "«   q_1: ─░──╫─┤M├──────\n",
       "«         ░  ║ └╥┘┌─┐   \n",
       "«   q_2: ─░──╫──╫─┤M├───\n",
       "«         ░  ║  ║ └╥┘┌─┐\n",
       "«   q_3: ─░──╫──╫──╫─┤M├\n",
       "«         ░  ║  ║  ║ └╥┘\n",
       "«   c: 4/════╬══╬══╬══╬═\n",
       "«            ║  ║  ║  ║ \n",
       "«meas: 4/════╩══╩══╩══╩═\n",
       "«            0  1  2  3 </pre>"
      ],
      "text/plain": [
       "        ┌───┐┌────────────────────┐┌────────┐┌────────────────────┐┌────────┐»\n",
       "   q_0: ┤ H ├┤0                   ├┤0       ├┤0                   ├┤0       ├»\n",
       "        ├───┤│                    ││        ││                    ││        │»\n",
       "   q_1: ┤ H ├┤1                   ├┤1       ├┤1                   ├┤1       ├»\n",
       "        ├───┤│  Oracle\n",
       "n=4, var=1 ││  U$_s$ ││  Oracle\n",
       "n=4, var=1 ││  U$_s$ │»\n",
       "   q_2: ┤ H ├┤2                   ├┤2       ├┤2                   ├┤2       ├»\n",
       "        ├───┤│                    ││        ││                    ││        │»\n",
       "   q_3: ┤ H ├┤3                   ├┤3       ├┤3                   ├┤3       ├»\n",
       "        └───┘└────────────────────┘└────────┘└────────────────────┘└────────┘»\n",
       "   c: 4/═════════════════════════════════════════════════════════════════════»\n",
       "                                                                             »\n",
       "meas: 4/═════════════════════════════════════════════════════════════════════»\n",
       "                                                                             »\n",
       "«         ░ ┌─┐         \n",
       "«   q_0: ─░─┤M├─────────\n",
       "«         ░ └╥┘┌─┐      \n",
       "«   q_1: ─░──╫─┤M├──────\n",
       "«         ░  ║ └╥┘┌─┐   \n",
       "«   q_2: ─░──╫──╫─┤M├───\n",
       "«         ░  ║  ║ └╥┘┌─┐\n",
       "«   q_3: ─░──╫──╫──╫─┤M├\n",
       "«         ░  ║  ║  ║ └╥┘\n",
       "«   c: 4/════╬══╬══╬══╬═\n",
       "«            ║  ║  ║  ║ \n",
       "«meas: 4/════╩══╩══╩══╩═\n",
       "«            0  1  2  3 "
      ]
     },
     "execution_count": 75,
     "metadata": {},
     "output_type": "execute_result"
    }
   ],
   "source": [
    "n = 4\n",
    "iterations = 2\n",
    "oracle = grover_problem_oracle(n, variant=1, print_solutions=True)\n",
    "\n",
    "qc = QuantumCircuit(n, n)\n",
    "qc = grover_oracle(oracle, iterations)\n",
    "qc.draw()"
   ]
  },
  {
   "cell_type": "code",
   "execution_count": null,
   "id": "960a9c92",
   "metadata": {},
   "outputs": [],
   "source": []
  }
 ],
 "metadata": {
  "kernelspec": {
   "display_name": "Python 3",
   "language": "python",
   "name": "python3"
  },
  "language_info": {
   "codemirror_mode": {
    "name": "ipython",
    "version": 3
   },
   "file_extension": ".py",
   "mimetype": "text/x-python",
   "name": "python",
   "nbconvert_exporter": "python",
   "pygments_lexer": "ipython3",
   "version": "3.8.8"
  }
 },
 "nbformat": 4,
 "nbformat_minor": 5
}
