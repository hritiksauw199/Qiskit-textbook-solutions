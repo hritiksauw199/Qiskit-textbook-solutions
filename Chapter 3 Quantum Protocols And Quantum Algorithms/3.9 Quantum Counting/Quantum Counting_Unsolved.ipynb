{
 "cells": [
  {
   "cell_type": "markdown",
   "id": "e1787793",
   "metadata": {},
   "source": [
    "# Can you create an oracle with a different number of solutions? How does the accuracy of the quantum counting algorithm change?"
   ]
  },
  {
   "cell_type": "code",
   "execution_count": 1,
   "id": "0316a2ae",
   "metadata": {},
   "outputs": [],
   "source": [
    "import matplotlib.pyplot as plt\n",
    "import numpy as np\n",
    "import math\n",
    "\n",
    "# importing Qiskit\n",
    "import qiskit\n",
    "from qiskit import QuantumCircuit, transpile, assemble, Aer\n",
    "\n",
    "# import basic plot tools\n",
    "from qiskit.visualization import plot_histogram\n",
    "from qiskit_textbook.problems import grover_problem_oracle"
   ]
  },
  {
   "cell_type": "code",
   "execution_count": 2,
   "id": "58a2fa80",
   "metadata": {},
   "outputs": [],
   "source": [
    "def diffuser(nqubits):\n",
    "    qc = QuantumCircuit(nqubits)\n",
    "    # Apply transformation |s> -> |00..0> (H-gates)\n",
    "    for qubit in range(nqubits):\n",
    "        qc.h(qubit)\n",
    "    # Apply transformation |00..0> -> |11..1> (X-gates)\n",
    "    for qubit in range(nqubits):\n",
    "        qc.x(qubit)\n",
    "    # Do multi-controlled-Z gate\n",
    "    qc.h(nqubits-1)\n",
    "    qc.mct(list(range(nqubits-1)), nqubits-1)  # multi-controlled-toffoli\n",
    "    qc.h(nqubits-1)\n",
    "    # Apply transformation |11..1> -> |00..0>\n",
    "    for qubit in range(nqubits):\n",
    "        qc.x(qubit)\n",
    "    # Apply transformation |00..0> -> |s>\n",
    "    for qubit in range(nqubits):\n",
    "        qc.h(qubit)\n",
    "    # We will return the diffuser as a gate\n",
    "    U_s = qc.to_gate()\n",
    "    U_s.name = \"U$_s$\"\n",
    "    return U_s"
   ]
  },
  {
   "cell_type": "markdown",
   "id": "f0eb68fc",
   "metadata": {},
   "source": [
    "**Creating a oracle and diffuser on 3 qubits with 2 solutions |011> and |101>**"
   ]
  },
  {
   "cell_type": "code",
   "execution_count": 3,
   "id": "e176c995",
   "metadata": {},
   "outputs": [],
   "source": [
    "def grover_unsolved():\n",
    "    n=3\n",
    "    qc = QuantumCircuit(n)\n",
    "    for i in range(n):\n",
    "        qc.h(i)\n",
    "    #oracle\n",
    "    qc.cz(0, 2)\n",
    "    qc.cz(1, 2)\n",
    "    #diffuser         #use the model of general diffuser\n",
    "    qc.h(range(3))\n",
    "    qc.x(range(3))\n",
    "    qc.h(2)\n",
    "    qc.mct([0,1],2)\n",
    "    qc.h(2)\n",
    "    qc.x(range(3))\n",
    "    qc.h(range(3))\n",
    "\n",
    "    return qc"
   ]
  },
  {
   "cell_type": "code",
   "execution_count": 4,
   "id": "2b37f85b",
   "metadata": {},
   "outputs": [],
   "source": [
    "grit = grover_unsolved().to_gate()\n",
    "grit.label = \"Grover\"\n",
    "cgrit = grit.control()"
   ]
  },
  {
   "cell_type": "code",
   "execution_count": 5,
   "id": "2f0b7c01",
   "metadata": {},
   "outputs": [],
   "source": [
    "#This code implements the QFT on n qubits:\n",
    "def qft(n):\n",
    "    \"\"\"Creates an n-qubit QFT circuit\"\"\"\n",
    "    circuit = QuantumCircuit(3)\n",
    "    def swap_registers(circuit, n):\n",
    "        for qubit in range(n//2):\n",
    "            circuit.swap(qubit, n-qubit-1)\n",
    "        return circuit\n",
    "    def qft_rotations(circuit, n):\n",
    "        \"\"\"Performs qft on the first n qubits in circuit (without swaps)\"\"\"\n",
    "        if n == 0:\n",
    "            return circuit\n",
    "        n -= 1\n",
    "        circuit.h(n)\n",
    "        for qubit in range(n):\n",
    "            circuit.cp(np.pi/2**(n-qubit), qubit, n)\n",
    "        qft_rotations(circuit, n)\n",
    "    \n",
    "    qft_rotations(circuit, n)\n",
    "    swap_registers(circuit, n)\n",
    "    return circuit"
   ]
  },
  {
   "cell_type": "code",
   "execution_count": 6,
   "id": "f4f112e3",
   "metadata": {},
   "outputs": [],
   "source": [
    "# inversing the circuit\n",
    "qft_dagger = qft(3).to_gate().inverse()\n",
    "qft_dagger.label = \"QFT†\""
   ]
  },
  {
   "cell_type": "code",
   "execution_count": 7,
   "id": "870de812",
   "metadata": {},
   "outputs": [
    {
     "data": {
      "text/html": [
       "<pre style=\"word-wrap: normal;white-space: pre;background: #fff0;line-height: 1.1;font-family: &quot;Courier New&quot;,Courier,monospace\">     ┌───┐                                                                  »\n",
       "q_0: ┤ H ├─────■────────────────────────────────────────────────────────────»\n",
       "     ├───┤     │                                                            »\n",
       "q_1: ┤ H ├─────┼──────────■──────────■──────────────────────────────────────»\n",
       "     ├───┤     │          │          │                                      »\n",
       "q_2: ┤ H ├─────┼──────────┼──────────┼──────────■──────────■──────────■─────»\n",
       "     ├───┤┌────┴────┐┌────┴────┐┌────┴────┐┌────┴────┐┌────┴────┐┌────┴────┐»\n",
       "q_3: ┤ H ├┤0        ├┤0        ├┤0        ├┤0        ├┤0        ├┤0        ├»\n",
       "     ├───┤│         ││         ││         ││         ││         ││         │»\n",
       "q_4: ┤ H ├┤1 Grover ├┤1 Grover ├┤1 Grover ├┤1 Grover ├┤1 Grover ├┤1 Grover ├»\n",
       "     ├───┤│         ││         ││         ││         ││         ││         │»\n",
       "q_5: ┤ H ├┤2        ├┤2        ├┤2        ├┤2        ├┤2        ├┤2        ├»\n",
       "     └───┘└─────────┘└─────────┘└─────────┘└─────────┘└─────────┘└─────────┘»\n",
       "c: 3/═══════════════════════════════════════════════════════════════════════»\n",
       "                                                                            »\n",
       "«                ┌───────┐┌─┐      \n",
       "«q_0: ───────────┤0      ├┤M├──────\n",
       "«                │       │└╥┘┌─┐   \n",
       "«q_1: ───────────┤1 QFT† ├─╫─┤M├───\n",
       "«                │       │ ║ └╥┘┌─┐\n",
       "«q_2: ─────■─────┤2      ├─╫──╫─┤M├\n",
       "«     ┌────┴────┐└───────┘ ║  ║ └╥┘\n",
       "«q_3: ┤0        ├──────────╫──╫──╫─\n",
       "«     │         │          ║  ║  ║ \n",
       "«q_4: ┤1 Grover ├──────────╫──╫──╫─\n",
       "«     │         │          ║  ║  ║ \n",
       "«q_5: ┤2        ├──────────╫──╫──╫─\n",
       "«     └─────────┘          ║  ║  ║ \n",
       "«c: 3/═════════════════════╩══╩══╩═\n",
       "«                          0  1  2 </pre>"
      ],
      "text/plain": [
       "     ┌───┐                                                                  »\n",
       "q_0: ┤ H ├─────■────────────────────────────────────────────────────────────»\n",
       "     ├───┤     │                                                            »\n",
       "q_1: ┤ H ├─────┼──────────■──────────■──────────────────────────────────────»\n",
       "     ├───┤     │          │          │                                      »\n",
       "q_2: ┤ H ├─────┼──────────┼──────────┼──────────■──────────■──────────■─────»\n",
       "     ├───┤┌────┴────┐┌────┴────┐┌────┴────┐┌────┴────┐┌────┴────┐┌────┴────┐»\n",
       "q_3: ┤ H ├┤0        ├┤0        ├┤0        ├┤0        ├┤0        ├┤0        ├»\n",
       "     ├───┤│         ││         ││         ││         ││         ││         │»\n",
       "q_4: ┤ H ├┤1 Grover ├┤1 Grover ├┤1 Grover ├┤1 Grover ├┤1 Grover ├┤1 Grover ├»\n",
       "     ├───┤│         ││         ││         ││         ││         ││         │»\n",
       "q_5: ┤ H ├┤2        ├┤2        ├┤2        ├┤2        ├┤2        ├┤2        ├»\n",
       "     └───┘└─────────┘└─────────┘└─────────┘└─────────┘└─────────┘└─────────┘»\n",
       "c: 3/═══════════════════════════════════════════════════════════════════════»\n",
       "                                                                            »\n",
       "«                ┌───────┐┌─┐      \n",
       "«q_0: ───────────┤0      ├┤M├──────\n",
       "«                │       │└╥┘┌─┐   \n",
       "«q_1: ───────────┤1 QFT† ├─╫─┤M├───\n",
       "«                │       │ ║ └╥┘┌─┐\n",
       "«q_2: ─────■─────┤2      ├─╫──╫─┤M├\n",
       "«     ┌────┴────┐└───────┘ ║  ║ └╥┘\n",
       "«q_3: ┤0        ├──────────╫──╫──╫─\n",
       "«     │         │          ║  ║  ║ \n",
       "«q_4: ┤1 Grover ├──────────╫──╫──╫─\n",
       "«     │         │          ║  ║  ║ \n",
       "«q_5: ┤2        ├──────────╫──╫──╫─\n",
       "«     └─────────┘          ║  ║  ║ \n",
       "«c: 3/═════════════════════╩══╩══╩═\n",
       "«                          0  1  2 "
      ]
     },
     "execution_count": 7,
     "metadata": {},
     "output_type": "execute_result"
    }
   ],
   "source": [
    "# Create QuantumCircuit\n",
    "t = 3   # no. of counting qubits\n",
    "n = 3   # no. of searching qubits\n",
    "qc = QuantumCircuit(n+t, t) # Circuit with n+t qubits and t classical bits\n",
    "\n",
    "# Initialize all qubits to |+>\n",
    "for qubit in range(t+n):\n",
    "    qc.h(qubit)\n",
    "\n",
    "# Begin controlled Grover iterations\n",
    "iterations = 1\n",
    "for qubit in range(t): # qubits in range of counting quibts\n",
    "    for i in range(iterations):\n",
    "        qc.append(cgrit, [qubit] + [*range(t, n+t)]) #controlled grover oracle\n",
    "    iterations *= 2     # iteration in power of 2\n",
    "    \n",
    "# Do inverse QFT on counting qubits\n",
    "qc.append(qft_dagger, range(t))\n",
    "\n",
    "# Measure counting qubits\n",
    "qc.measure(range(t), range(t))\n",
    "\n",
    "# Display the circuit\n",
    "qc.draw()"
   ]
  },
  {
   "cell_type": "code",
   "execution_count": 8,
   "id": "4d55878b",
   "metadata": {},
   "outputs": [
    {
     "data": {
      "image/png": "[encoded data removed]",
      "text/plain": [
       "<Figure size 504x360 with 1 Axes>"
      ]
     },
     "execution_count": 8,
     "metadata": {},
     "output_type": "execute_result"
    }
   ],
   "source": [
    "# Execute and see results\n",
    "aer_sim = Aer.get_backend('aer_simulator')\n",
    "transpiled_qc = transpile(qc, aer_sim)\n",
    "qobj = assemble(transpiled_qc)\n",
    "job = aer_sim.run(qobj)\n",
    "hist = job.result().get_counts()\n",
    "plot_histogram(hist)"
   ]
  },
  {
   "cell_type": "code",
   "execution_count": 9,
   "id": "1670b07b",
   "metadata": {},
   "outputs": [],
   "source": [
    "measured_str = max(hist, key=hist.get)"
   ]
  },
  {
   "cell_type": "code",
   "execution_count": 10,
   "id": "c338ae57",
   "metadata": {},
   "outputs": [
    {
     "name": "stdout",
     "output_type": "stream",
     "text": [
      "Register Output = 3\n"
     ]
    }
   ],
   "source": [
    "measured_int = int(measured_str,2)\n",
    "print(\"Register Output = %i\" % measured_int)"
   ]
  },
  {
   "cell_type": "code",
   "execution_count": 11,
   "id": "12f15384",
   "metadata": {},
   "outputs": [
    {
     "name": "stdout",
     "output_type": "stream",
     "text": [
      "Theta = 2.35619\n"
     ]
    }
   ],
   "source": [
    "theta = (measured_int/(2**t))*math.pi*2\n",
    "print(\"Theta = %.5f\" % theta)"
   ]
  },
  {
   "cell_type": "code",
   "execution_count": 12,
   "id": "9e96d8b1",
   "metadata": {},
   "outputs": [
    {
     "name": "stdout",
     "output_type": "stream",
     "text": [
      "No. of Solutions = 1.2\n"
     ]
    }
   ],
   "source": [
    "N = 2**n\n",
    "M = N * (math.sin(theta/2)**2)\n",
    "print(\"No. of Solutions = %.1f\" % (N-M))"
   ]
  },
  {
   "cell_type": "markdown",
   "id": "9cabfb24",
   "metadata": {},
   "source": [
    "**The result is not so accurate but we can guess that there are more than one solutions**"
   ]
  },
  {
   "cell_type": "code",
   "execution_count": 13,
   "id": "247d46d7",
   "metadata": {},
   "outputs": [
    {
     "name": "stdout",
     "output_type": "stream",
     "text": [
      "Error < 2.86\n"
     ]
    }
   ],
   "source": [
    "m = t - 1 # Upper bound: Will be less than this \n",
    "err = (math.sqrt(2*M*N) + N/(2**(m+1)))*(2**(-m))\n",
    "print(\"Error < %.2f\" % err)"
   ]
  },
  {
   "cell_type": "code",
   "execution_count": null,
   "id": "4ef725b6",
   "metadata": {},
   "outputs": [],
   "source": []
  }
 ],
 "metadata": {
  "kernelspec": {
   "display_name": "Python 3",
   "language": "python",
   "name": "python3"
  },
  "language_info": {
   "codemirror_mode": {
    "name": "ipython",
    "version": 3
   },
   "file_extension": ".py",
   "mimetype": "text/x-python",
   "name": "python",
   "nbconvert_exporter": "python",
   "pygments_lexer": "ipython3",
   "version": "3.8.8"
  }
 },
 "nbformat": 4,
 "nbformat_minor": 5
}
