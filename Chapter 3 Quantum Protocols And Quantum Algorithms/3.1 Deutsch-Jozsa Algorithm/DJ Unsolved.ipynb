{
 "cells": [
  {
   "cell_type": "markdown",
   "id": "24bfcb3d",
   "metadata": {},
   "source": [
    "# The function dj_problem_oracle (below) returns a Deutsch-Jozsa oracle for n = 4 in the form of a gate. The gate takes 5 qubits as input where the final qubit (q_4) is the output qubit (as with the example oracles above). You can get different oracles by giving dj_problem_oracle different integers between 1 and 5. Use the Deutsch-Jozsa algorithm to decide whether each oracle is balanced or constant"
   ]
  },
  {
   "cell_type": "code",
   "execution_count": 10,
   "id": "a5c88508",
   "metadata": {},
   "outputs": [],
   "source": [
    "import numpy as np\n",
    "\n",
    "from qiskit import IBMQ, Aer\n",
    "from qiskit.providers.ibmq import least_busy\n",
    "from qiskit import QuantumCircuit, assemble, transpile\n",
    "\n",
    "from qiskit.visualization import plot_histogram\n",
    "from qiskit_textbook.problems import dj_problem_oracle"
   ]
  },
  {
   "cell_type": "code",
   "execution_count": 11,
   "id": "ee81f4f0",
   "metadata": {},
   "outputs": [],
   "source": [
    "def dj_oracle(case, n):\n",
    "    # We need to make a QuantumCircuit object to return\n",
    "    # This circuit has n+1 qubits: the size of the input,\n",
    "    # plus one output qubit\n",
    "    oracle_qc = QuantumCircuit(n+1)\n",
    "    \n",
    "    # First, let's deal with the case in which oracle is balanced\n",
    "    if case == \"balanced\":\n",
    "        # First generate a random number that tells us which CNOTs to\n",
    "        # wrap in X-gates:\n",
    "        b = np.random.randint(1,2**n)\n",
    "        # Next, format 'b' as a binary string of length 'n', padded with zeros:\n",
    "        b_str = format(b, '0'+str(n)+'b')\n",
    "        # Next, we place the first X-gates. Each digit in our binary string \n",
    "        # corresponds to a qubit, if the digit is 0, we do nothing, if it's 1\n",
    "        # we apply an X-gate to that qubit:\n",
    "        for qubit in range(len(b_str)):\n",
    "            if b_str[qubit] == '1':\n",
    "                oracle_qc.x(qubit)\n",
    "        # Do the controlled-NOT gates for each qubit, using the output qubit \n",
    "        # as the target:\n",
    "        for qubit in range(n):\n",
    "            oracle_qc.cx(qubit, n)\n",
    "        # Next, place the final X-gates\n",
    "        for qubit in range(len(b_str)):\n",
    "            if b_str[qubit] == '1':\n",
    "                oracle_qc.x(qubit)\n",
    "\n",
    "    # Case in which oracle is constant\n",
    "    if case == \"constant\":\n",
    "        # First decide what the fixed output of the oracle will be\n",
    "        # (either always 0 or always 1)\n",
    "        output = np.random.randint(2)\n",
    "        if output == 1:\n",
    "            oracle_qc.x(n)\n",
    "    \n",
    "    oracle_gate = oracle_qc.to_gate()\n",
    "    oracle_gate.name = \"Oracle\" # To show when we display the circuit\n",
    "    return oracle_gate"
   ]
  },
  {
   "cell_type": "code",
   "execution_count": 12,
   "id": "5364633e",
   "metadata": {},
   "outputs": [],
   "source": [
    "def dj_algorithm(oracle, n):\n",
    "    dj_circuit = QuantumCircuit(n+1, n)\n",
    "    # Set up the output qubit:\n",
    "    dj_circuit.x(n)\n",
    "    dj_circuit.h(n)\n",
    "    # And set up the input register:\n",
    "    for qubit in range(n):\n",
    "        dj_circuit.h(qubit)\n",
    "    # Let's append the oracle gate to our circuit:\n",
    "    dj_circuit.append(oracle, range(n+1))\n",
    "    # Finally, perform the H-gates again and measure:\n",
    "    for qubit in range(n):\n",
    "        dj_circuit.h(qubit)\n",
    "    \n",
    "    for i in range(n):\n",
    "        dj_circuit.measure(i, i)\n",
    "    \n",
    "    return dj_circuit"
   ]
  },
  {
   "cell_type": "code",
   "execution_count": 22,
   "id": "cde6f91b",
   "metadata": {},
   "outputs": [],
   "source": [
    "n = 4"
   ]
  },
  {
   "cell_type": "markdown",
   "id": "1336346d",
   "metadata": {},
   "source": [
    "# 1."
   ]
  },
  {
   "cell_type": "code",
   "execution_count": 23,
   "id": "db6e4619",
   "metadata": {},
   "outputs": [
    {
     "data": {
      "text/html": [
       "<pre style=\"word-wrap: normal;white-space: pre;background: #fff0;line-height: 1.1;font-family: &quot;Courier New&quot;,Courier,monospace\">     ┌───┐     ┌─────────────┐┌───┐┌─┐         \n",
       "q_0: ┤ H ├─────┤0            ├┤ H ├┤M├─────────\n",
       "     ├───┤     │             │├───┤└╥┘┌─┐      \n",
       "q_1: ┤ H ├─────┤1            ├┤ H ├─╫─┤M├──────\n",
       "     ├───┤     │             │├───┤ ║ └╥┘┌─┐   \n",
       "q_2: ┤ H ├─────┤2 circuit-35 ├┤ H ├─╫──╫─┤M├───\n",
       "     ├───┤     │             │├───┤ ║  ║ └╥┘┌─┐\n",
       "q_3: ┤ H ├─────┤3            ├┤ H ├─╫──╫──╫─┤M├\n",
       "     ├───┤┌───┐│             │└───┘ ║  ║  ║ └╥┘\n",
       "q_4: ┤ X ├┤ H ├┤4            ├──────╫──╫──╫──╫─\n",
       "     └───┘└───┘└─────────────┘      ║  ║  ║  ║ \n",
       "c: 4/═══════════════════════════════╩══╩══╩══╩═\n",
       "                                    0  1  2  3 </pre>"
      ],
      "text/plain": [
       "     ┌───┐     ┌─────────────┐┌───┐┌─┐         \n",
       "q_0: ┤ H ├─────┤0            ├┤ H ├┤M├─────────\n",
       "     ├───┤     │             │├───┤└╥┘┌─┐      \n",
       "q_1: ┤ H ├─────┤1            ├┤ H ├─╫─┤M├──────\n",
       "     ├───┤     │             │├───┤ ║ └╥┘┌─┐   \n",
       "q_2: ┤ H ├─────┤2 circuit-35 ├┤ H ├─╫──╫─┤M├───\n",
       "     ├───┤     │             │├───┤ ║  ║ └╥┘┌─┐\n",
       "q_3: ┤ H ├─────┤3            ├┤ H ├─╫──╫──╫─┤M├\n",
       "     ├───┤┌───┐│             │└───┘ ║  ║  ║ └╥┘\n",
       "q_4: ┤ X ├┤ H ├┤4            ├──────╫──╫──╫──╫─\n",
       "     └───┘└───┘└─────────────┘      ║  ║  ║  ║ \n",
       "c: 4/═══════════════════════════════╩══╩══╩══╩═\n",
       "                                    0  1  2  3 "
      ]
     },
     "execution_count": 23,
     "metadata": {},
     "output_type": "execute_result"
    }
   ],
   "source": [
    "oracle = dj_problem_oracle(1)\n",
    "dj_circuit = dj_algorithm(oracle, n)\n",
    "dj_circuit.draw()"
   ]
  },
  {
   "cell_type": "code",
   "execution_count": 24,
   "id": "a52ffc52",
   "metadata": {},
   "outputs": [
    {
     "data": {
      "image/png": "[encoded data removed]",
      "text/plain": [
       "<Figure size 504x360 with 1 Axes>"
      ]
     },
     "execution_count": 24,
     "metadata": {},
     "output_type": "execute_result"
    }
   ],
   "source": [
    "sim = Aer.get_backend('aer_simulator')\n",
    "transpiled_dj_circuit = transpile(dj_circuit, sim)\n",
    "qobj = assemble(transpiled_dj_circuit)\n",
    "results = sim.run(qobj).result()\n",
    "answer = results.get_counts()\n",
    "plot_histogram(answer)"
   ]
  },
  {
   "cell_type": "markdown",
   "id": "3d562acc",
   "metadata": {},
   "source": [
    "# 2."
   ]
  },
  {
   "cell_type": "code",
   "execution_count": 25,
   "id": "b75f34d1",
   "metadata": {},
   "outputs": [
    {
     "data": {
      "text/html": [
       "<pre style=\"word-wrap: normal;white-space: pre;background: #fff0;line-height: 1.1;font-family: &quot;Courier New&quot;,Courier,monospace\">     ┌───┐     ┌──────────────┐┌───┐┌─┐         \n",
       "q_0: ┤ H ├─────┤0             ├┤ H ├┤M├─────────\n",
       "     ├───┤     │              │├───┤└╥┘┌─┐      \n",
       "q_1: ┤ H ├─────┤1             ├┤ H ├─╫─┤M├──────\n",
       "     ├───┤     │              │├───┤ ║ └╥┘┌─┐   \n",
       "q_2: ┤ H ├─────┤2 circuit-369 ├┤ H ├─╫──╫─┤M├───\n",
       "     ├───┤     │              │├───┤ ║  ║ └╥┘┌─┐\n",
       "q_3: ┤ H ├─────┤3             ├┤ H ├─╫──╫──╫─┤M├\n",
       "     ├───┤┌───┐│              │└───┘ ║  ║  ║ └╥┘\n",
       "q_4: ┤ X ├┤ H ├┤4             ├──────╫──╫──╫──╫─\n",
       "     └───┘└───┘└──────────────┘      ║  ║  ║  ║ \n",
       "c: 4/════════════════════════════════╩══╩══╩══╩═\n",
       "                                     0  1  2  3 </pre>"
      ],
      "text/plain": [
       "     ┌───┐     ┌──────────────┐┌───┐┌─┐         \n",
       "q_0: ┤ H ├─────┤0             ├┤ H ├┤M├─────────\n",
       "     ├───┤     │              │├───┤└╥┘┌─┐      \n",
       "q_1: ┤ H ├─────┤1             ├┤ H ├─╫─┤M├──────\n",
       "     ├───┤     │              │├───┤ ║ └╥┘┌─┐   \n",
       "q_2: ┤ H ├─────┤2 circuit-369 ├┤ H ├─╫──╫─┤M├───\n",
       "     ├───┤     │              │├───┤ ║  ║ └╥┘┌─┐\n",
       "q_3: ┤ H ├─────┤3             ├┤ H ├─╫──╫──╫─┤M├\n",
       "     ├───┤┌───┐│              │└───┘ ║  ║  ║ └╥┘\n",
       "q_4: ┤ X ├┤ H ├┤4             ├──────╫──╫──╫──╫─\n",
       "     └───┘└───┘└──────────────┘      ║  ║  ║  ║ \n",
       "c: 4/════════════════════════════════╩══╩══╩══╩═\n",
       "                                     0  1  2  3 "
      ]
     },
     "execution_count": 25,
     "metadata": {},
     "output_type": "execute_result"
    }
   ],
   "source": [
    "oracle = dj_problem_oracle(2)\n",
    "dj_circuit = dj_algorithm(oracle, n)\n",
    "dj_circuit.draw()"
   ]
  },
  {
   "cell_type": "code",
   "execution_count": 26,
   "id": "a0219f33",
   "metadata": {},
   "outputs": [
    {
     "data": {
      "image/png": "[encoded data removed]",
      "text/plain": [
       "<Figure size 504x360 with 1 Axes>"
      ]
     },
     "execution_count": 26,
     "metadata": {},
     "output_type": "execute_result"
    }
   ],
   "source": [
    "sim = Aer.get_backend('aer_simulator')\n",
    "transpiled_dj_circuit = transpile(dj_circuit, sim)\n",
    "qobj = assemble(transpiled_dj_circuit)\n",
    "results = sim.run(qobj).result()\n",
    "answer = results.get_counts()\n",
    "plot_histogram(answer)"
   ]
  },
  {
   "cell_type": "markdown",
   "id": "cbb22bd9",
   "metadata": {},
   "source": [
    "# 3."
   ]
  },
  {
   "cell_type": "code",
   "execution_count": 27,
   "id": "513cf9cb",
   "metadata": {},
   "outputs": [
    {
     "data": {
      "text/html": [
       "<pre style=\"word-wrap: normal;white-space: pre;background: #fff0;line-height: 1.1;font-family: &quot;Courier New&quot;,Courier,monospace\">     ┌───┐     ┌──────────────┐┌───┐┌─┐         \n",
       "q_0: ┤ H ├─────┤0             ├┤ H ├┤M├─────────\n",
       "     ├───┤     │              │├───┤└╥┘┌─┐      \n",
       "q_1: ┤ H ├─────┤1             ├┤ H ├─╫─┤M├──────\n",
       "     ├───┤     │              │├───┤ ║ └╥┘┌─┐   \n",
       "q_2: ┤ H ├─────┤2 circuit-464 ├┤ H ├─╫──╫─┤M├───\n",
       "     ├───┤     │              │├───┤ ║  ║ └╥┘┌─┐\n",
       "q_3: ┤ H ├─────┤3             ├┤ H ├─╫──╫──╫─┤M├\n",
       "     ├───┤┌───┐│              │└───┘ ║  ║  ║ └╥┘\n",
       "q_4: ┤ X ├┤ H ├┤4             ├──────╫──╫──╫──╫─\n",
       "     └───┘└───┘└──────────────┘      ║  ║  ║  ║ \n",
       "c: 4/════════════════════════════════╩══╩══╩══╩═\n",
       "                                     0  1  2  3 </pre>"
      ],
      "text/plain": [
       "     ┌───┐     ┌──────────────┐┌───┐┌─┐         \n",
       "q_0: ┤ H ├─────┤0             ├┤ H ├┤M├─────────\n",
       "     ├───┤     │              │├───┤└╥┘┌─┐      \n",
       "q_1: ┤ H ├─────┤1             ├┤ H ├─╫─┤M├──────\n",
       "     ├───┤     │              │├───┤ ║ └╥┘┌─┐   \n",
       "q_2: ┤ H ├─────┤2 circuit-464 ├┤ H ├─╫──╫─┤M├───\n",
       "     ├───┤     │              │├───┤ ║  ║ └╥┘┌─┐\n",
       "q_3: ┤ H ├─────┤3             ├┤ H ├─╫──╫──╫─┤M├\n",
       "     ├───┤┌───┐│              │└───┘ ║  ║  ║ └╥┘\n",
       "q_4: ┤ X ├┤ H ├┤4             ├──────╫──╫──╫──╫─\n",
       "     └───┘└───┘└──────────────┘      ║  ║  ║  ║ \n",
       "c: 4/════════════════════════════════╩══╩══╩══╩═\n",
       "                                     0  1  2  3 "
      ]
     },
     "execution_count": 27,
     "metadata": {},
     "output_type": "execute_result"
    }
   ],
   "source": [
    "oracle = dj_problem_oracle(3)\n",
    "dj_circuit = dj_algorithm(oracle, n)\n",
    "dj_circuit.draw()"
   ]
  },
  {
   "cell_type": "code",
   "execution_count": 28,
   "id": "a505801f",
   "metadata": {
    "scrolled": true
   },
   "outputs": [
    {
     "data": {
      "image/png": "[encoded data removed]",
      "text/plain": [
       "<Figure size 504x360 with 1 Axes>"
      ]
     },
     "execution_count": 28,
     "metadata": {},
     "output_type": "execute_result"
    }
   ],
   "source": [
    "sim = Aer.get_backend('aer_simulator')\n",
    "transpiled_dj_circuit = transpile(dj_circuit, sim)\n",
    "qobj = assemble(transpiled_dj_circuit)\n",
    "results = sim.run(qobj).result()\n",
    "answer = results.get_counts()\n",
    "plot_histogram(answer)"
   ]
  },
  {
   "cell_type": "markdown",
   "id": "5a043b75",
   "metadata": {},
   "source": [
    "# 4."
   ]
  },
  {
   "cell_type": "code",
   "execution_count": 29,
   "id": "9aee0ddb",
   "metadata": {},
   "outputs": [
    {
     "data": {
      "text/html": [
       "<pre style=\"word-wrap: normal;white-space: pre;background: #fff0;line-height: 1.1;font-family: &quot;Courier New&quot;,Courier,monospace\">     ┌───┐     ┌──────────────┐┌───┐┌─┐         \n",
       "q_0: ┤ H ├─────┤0             ├┤ H ├┤M├─────────\n",
       "     ├───┤     │              │├───┤└╥┘┌─┐      \n",
       "q_1: ┤ H ├─────┤1             ├┤ H ├─╫─┤M├──────\n",
       "     ├───┤     │              │├───┤ ║ └╥┘┌─┐   \n",
       "q_2: ┤ H ├─────┤2 circuit-793 ├┤ H ├─╫──╫─┤M├───\n",
       "     ├───┤     │              │├───┤ ║  ║ └╥┘┌─┐\n",
       "q_3: ┤ H ├─────┤3             ├┤ H ├─╫──╫──╫─┤M├\n",
       "     ├───┤┌───┐│              │└───┘ ║  ║  ║ └╥┘\n",
       "q_4: ┤ X ├┤ H ├┤4             ├──────╫──╫──╫──╫─\n",
       "     └───┘└───┘└──────────────┘      ║  ║  ║  ║ \n",
       "c: 4/════════════════════════════════╩══╩══╩══╩═\n",
       "                                     0  1  2  3 </pre>"
      ],
      "text/plain": [
       "     ┌───┐     ┌──────────────┐┌───┐┌─┐         \n",
       "q_0: ┤ H ├─────┤0             ├┤ H ├┤M├─────────\n",
       "     ├───┤     │              │├───┤└╥┘┌─┐      \n",
       "q_1: ┤ H ├─────┤1             ├┤ H ├─╫─┤M├──────\n",
       "     ├───┤     │              │├───┤ ║ └╥┘┌─┐   \n",
       "q_2: ┤ H ├─────┤2 circuit-793 ├┤ H ├─╫──╫─┤M├───\n",
       "     ├───┤     │              │├───┤ ║  ║ └╥┘┌─┐\n",
       "q_3: ┤ H ├─────┤3             ├┤ H ├─╫──╫──╫─┤M├\n",
       "     ├───┤┌───┐│              │└───┘ ║  ║  ║ └╥┘\n",
       "q_4: ┤ X ├┤ H ├┤4             ├──────╫──╫──╫──╫─\n",
       "     └───┘└───┘└──────────────┘      ║  ║  ║  ║ \n",
       "c: 4/════════════════════════════════╩══╩══╩══╩═\n",
       "                                     0  1  2  3 "
      ]
     },
     "execution_count": 29,
     "metadata": {},
     "output_type": "execute_result"
    }
   ],
   "source": [
    "oracle = dj_problem_oracle(4)\n",
    "dj_circuit = dj_algorithm(oracle, n)\n",
    "dj_circuit.draw()"
   ]
  },
  {
   "cell_type": "code",
   "execution_count": 30,
   "id": "2794876a",
   "metadata": {
    "scrolled": true
   },
   "outputs": [
    {
     "data": {
      "image/png": "[encoded data removed]",
      "text/plain": [
       "<Figure size 504x360 with 1 Axes>"
      ]
     },
     "execution_count": 30,
     "metadata": {},
     "output_type": "execute_result"
    }
   ],
   "source": [
    "sim = Aer.get_backend('aer_simulator')\n",
    "transpiled_dj_circuit = transpile(dj_circuit, sim)\n",
    "qobj = assemble(transpiled_dj_circuit)\n",
    "results = sim.run(qobj).result()\n",
    "answer = results.get_counts()\n",
    "plot_histogram(answer)"
   ]
  },
  {
   "cell_type": "markdown",
   "id": "08665c92",
   "metadata": {},
   "source": [
    "# 5."
   ]
  },
  {
   "cell_type": "code",
   "execution_count": 31,
   "id": "b5f92de9",
   "metadata": {},
   "outputs": [
    {
     "name": "stdout",
     "output_type": "stream",
     "text": [
      "There are only currently 4 oracles in this problem set, returning empty (balanced) gate\n"
     ]
    },
    {
     "data": {
      "text/html": [
       "<pre style=\"word-wrap: normal;white-space: pre;background: #fff0;line-height: 1.1;font-family: &quot;Courier New&quot;,Courier,monospace\">     ┌───┐     ┌──────────────┐┌───┐┌─┐         \n",
       "q_0: ┤ H ├─────┤0             ├┤ H ├┤M├─────────\n",
       "     ├───┤     │              │├───┤└╥┘┌─┐      \n",
       "q_1: ┤ H ├─────┤1             ├┤ H ├─╫─┤M├──────\n",
       "     ├───┤     │              │├───┤ ║ └╥┘┌─┐   \n",
       "q_2: ┤ H ├─────┤2 circuit-906 ├┤ H ├─╫──╫─┤M├───\n",
       "     ├───┤     │              │├───┤ ║  ║ └╥┘┌─┐\n",
       "q_3: ┤ H ├─────┤3             ├┤ H ├─╫──╫──╫─┤M├\n",
       "     ├───┤┌───┐│              │└───┘ ║  ║  ║ └╥┘\n",
       "q_4: ┤ X ├┤ H ├┤4             ├──────╫──╫──╫──╫─\n",
       "     └───┘└───┘└──────────────┘      ║  ║  ║  ║ \n",
       "c: 4/════════════════════════════════╩══╩══╩══╩═\n",
       "                                     0  1  2  3 </pre>"
      ],
      "text/plain": [
       "     ┌───┐     ┌──────────────┐┌───┐┌─┐         \n",
       "q_0: ┤ H ├─────┤0             ├┤ H ├┤M├─────────\n",
       "     ├───┤     │              │├───┤└╥┘┌─┐      \n",
       "q_1: ┤ H ├─────┤1             ├┤ H ├─╫─┤M├──────\n",
       "     ├───┤     │              │├───┤ ║ └╥┘┌─┐   \n",
       "q_2: ┤ H ├─────┤2 circuit-906 ├┤ H ├─╫──╫─┤M├───\n",
       "     ├───┤     │              │├───┤ ║  ║ └╥┘┌─┐\n",
       "q_3: ┤ H ├─────┤3             ├┤ H ├─╫──╫──╫─┤M├\n",
       "     ├───┤┌───┐│              │└───┘ ║  ║  ║ └╥┘\n",
       "q_4: ┤ X ├┤ H ├┤4             ├──────╫──╫──╫──╫─\n",
       "     └───┘└───┘└──────────────┘      ║  ║  ║  ║ \n",
       "c: 4/════════════════════════════════╩══╩══╩══╩═\n",
       "                                     0  1  2  3 "
      ]
     },
     "execution_count": 31,
     "metadata": {},
     "output_type": "execute_result"
    }
   ],
   "source": [
    "oracle = dj_problem_oracle(5)\n",
    "dj_circuit = dj_algorithm(oracle, n)\n",
    "dj_circuit.draw()"
   ]
  },
  {
   "cell_type": "code",
   "execution_count": 32,
   "id": "7d961dab",
   "metadata": {},
   "outputs": [
    {
     "data": {
      "image/png": "[encoded data removed]",
      "text/plain": [
       "<Figure size 504x360 with 1 Axes>"
      ]
     },
     "execution_count": 32,
     "metadata": {},
     "output_type": "execute_result"
    }
   ],
   "source": [
    "sim = Aer.get_backend('aer_simulator')\n",
    "transpiled_dj_circuit = transpile(dj_circuit, sim)\n",
    "qobj = assemble(transpiled_dj_circuit)\n",
    "results = sim.run(qobj).result()\n",
    "answer = results.get_counts()\n",
    "plot_histogram(answer)"
   ]
  },
  {
   "cell_type": "code",
   "execution_count": null,
   "id": "6534c96f",
   "metadata": {},
   "outputs": [],
   "source": []
  }
 ],
 "metadata": {
  "kernelspec": {
   "display_name": "Python 3",
   "language": "python",
   "name": "python3"
  },
  "language_info": {
   "codemirror_mode": {
    "name": "ipython",
    "version": 3
   },
   "file_extension": ".py",
   "mimetype": "text/x-python",
   "name": "python",
   "nbconvert_exporter": "python",
   "pygments_lexer": "ipython3",
   "version": "3.8.8"
  }
 },
 "nbformat": 4,
 "nbformat_minor": 5
}
