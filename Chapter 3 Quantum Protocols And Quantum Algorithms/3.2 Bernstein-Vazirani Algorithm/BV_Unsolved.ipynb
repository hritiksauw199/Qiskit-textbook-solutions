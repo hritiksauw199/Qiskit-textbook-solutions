{
 "cells": [
  {
   "cell_type": "markdown",
   "id": "b8b19cd5",
   "metadata": {},
   "source": [
    "# 1. Modify the implementation for a secret string  s = 1011. Are the results what you expect? Explain."
   ]
  },
  {
   "cell_type": "code",
   "execution_count": 2,
   "id": "8d8d99b5",
   "metadata": {},
   "outputs": [
    {
     "data": {
      "application/vnd.jupyter.widget-view+json": {
       "model_id": "d1b170806bfe45a989acaba02fdddfb0",
       "version_major": 2,
       "version_minor": 0
      },
      "text/plain": [
       "HBox(children=(Button(description='H⊗ⁿ', style=ButtonStyle()), Button(description='Oracle', style=ButtonStyle(…"
      ]
     },
     "metadata": {},
     "output_type": "display_data"
    },
    {
     "data": {
      "application/vnd.jupyter.widget-view+json": {
       "model_id": "6bd3b8a80c99414baa4fbc1f12002650",
       "version_major": 2,
       "version_minor": 0
      },
      "text/plain": [
       "HTMLMath(value='$$ |0000\\\\rangle = |0000\\\\rangle $$')"
      ]
     },
     "metadata": {},
     "output_type": "display_data"
    },
    {
     "data": {
      "application/vnd.jupyter.widget-view+json": {
       "model_id": "d5d621d97536496c947d189f0316c070",
       "version_major": 2,
       "version_minor": 0
      },
      "text/plain": [
       "Image(value=b'\\x89PNG\\r\\n\\x1a\\n\\x00\\x00\\x00\\rIHDR\\x00\\x00\\x00\\xce\\x00\\x00\\x01E\\x08\\x06\\x00\\x00\\x00\\xa4\\x1f\\xd2…"
      ]
     },
     "metadata": {},
     "output_type": "display_data"
    }
   ],
   "source": [
    "from qiskit_textbook.widgets import bv_widget\n",
    "bv_widget(4, \"1011\", hide_oracle=False)"
   ]
  },
  {
   "cell_type": "markdown",
   "id": "21dc416f",
   "metadata": {},
   "source": [
    "In the given implementation we have modified the number of quibts(4) required based on the length of unknown string s(here given as 1011). The desired output should be the string s, which as seen above is 1101, which is 1011 in reverse(due to ordering of qubit in qiskit). "
   ]
  },
  {
   "cell_type": "markdown",
   "id": "e7c57d5c",
   "metadata": {},
   "source": [
    "# 2.  Modify the implementation for a secret string  s = 11101101. Are the results what you expect? Explain."
   ]
  },
  {
   "cell_type": "code",
   "execution_count": 3,
   "id": "9c6abe8a",
   "metadata": {},
   "outputs": [
    {
     "data": {
      "application/vnd.jupyter.widget-view+json": {
       "model_id": "6a08dc0b97ce4b2bbf52a04b9aaa0874",
       "version_major": 2,
       "version_minor": 0
      },
      "text/plain": [
       "HBox(children=(Button(description='H⊗ⁿ', style=ButtonStyle()), Button(description='Oracle', style=ButtonStyle(…"
      ]
     },
     "metadata": {},
     "output_type": "display_data"
    },
    {
     "data": {
      "application/vnd.jupyter.widget-view+json": {
       "model_id": "e8b613b45f86436a9211f4d3bc71ae24",
       "version_major": 2,
       "version_minor": 0
      },
      "text/plain": [
       "HTMLMath(value='$$ |00000000\\\\rangle = |00000000\\\\rangle $$')"
      ]
     },
     "metadata": {},
     "output_type": "display_data"
    },
    {
     "data": {
      "application/vnd.jupyter.widget-view+json": {
       "model_id": "6302a465a4fc4a7baf6683e632af4274",
       "version_major": 2,
       "version_minor": 0
      },
      "text/plain": [
       "Image(value=b'\\x89PNG\\r\\n\\x1a\\n\\x00\\x00\\x00\\rIHDR\\x00\\x00\\x00\\xce\\x00\\x00\\x025\\x08\\x06\\x00\\x00\\x00\\x9e\\xd5\\xc5…"
      ]
     },
     "metadata": {},
     "output_type": "display_data"
    }
   ],
   "source": [
    "from qiskit_textbook.widgets import bv_widget\n",
    "bv_widget(8, \"11101101\", hide_oracle=False)"
   ]
  },
  {
   "cell_type": "markdown",
   "id": "d2661e30",
   "metadata": {},
   "source": [
    "In the given implementation we have modified the number of quibts(8) required based on the length of unknown string s(here given as 11101101). The desired output should be the string s, which as seen above is 1101, which is 10110111 in reverse(due to ordering of qubit in qiskit). "
   ]
  },
  {
   "cell_type": "code",
   "execution_count": null,
   "id": "9ef325fe",
   "metadata": {},
   "outputs": [],
   "source": []
  }
 ],
 "metadata": {
  "kernelspec": {
   "display_name": "Python 3",
   "language": "python",
   "name": "python3"
  },
  "language_info": {
   "codemirror_mode": {
    "name": "ipython",
    "version": 3
   },
   "file_extension": ".py",
   "mimetype": "text/x-python",
   "name": "python",
   "nbconvert_exporter": "python",
   "pygments_lexer": "ipython3",
   "version": "3.8.8"
  }
 },
 "nbformat": 4,
 "nbformat_minor": 5
}
